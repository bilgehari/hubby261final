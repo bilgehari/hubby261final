{
  "nbformat": 4,
  "nbformat_minor": 0,
  "metadata": {
    "colab": {
      "provenance": [],
      "include_colab_link": true
    },
    "kernelspec": {
      "name": "python3",
      "display_name": "Python 3"
    },
    "language_info": {
      "name": "python"
    }
  },
  "cells": [
    {
      "cell_type": "markdown",
      "metadata": {
        "id": "view-in-github",
        "colab_type": "text"
      },
      "source": [
        "<a href=\"https://colab.research.google.com/github/bilgehari/hubby261final/blob/main/Bilge_Kayalak_BBY261_%C4%B0leri_Programlama_Final.ipynb\" target=\"_parent\"><img src=\"https://colab.research.google.com/assets/colab-badge.svg\" alt=\"Open In Colab\"/></a>"
      ]
    },
    {
      "cell_type": "markdown",
      "source": [
        "**BBY261 Final Sınavına Hoşgeldiniz**\n",
        "\n",
        "Bu Colab not defterinin bir kopyasını kendi \"Google Drive\" hesabınızda \"Dosya >  Drive'da bir kopya kaydet\" seçeneği ile oluşturunuz. Sorulara kendi oluşturduğunuz kopya içinde yanıt veriniz. Her sorunun altında sorunun yanıtlanacağı kod alanı yer almaktadır, sadece bu alanı kullanınız.\n",
        "\n",
        "Github hesabınızda \"hubby261final\" adlı kod deposu oluşturunuz. Çalışmanızı tamamladığınızda Colab dosyanızı Github hesabınızda oluşturduğunuz \"hubby261final\" adlı kod deposuna (repository) \"Dosya > Github'da bir kopya kaydet\" seçeneği ile kaydediniz.\n",
        "\n",
        "Not: Tüm işlemleri tamamladığınızda sınavınızı başarıyla teslim edip edemediğinizi kontrol etmem gerekiyor. Bu açıdan sınavı tamamladığınızda lütfen bana haber verin ve kontrol işlemini birlikte gerçekleştirelim.\n",
        "\n",
        "Süreniz **1** saattir!\n",
        "\n",
        "*Başarılar...*"
      ],
      "metadata": {
        "id": "LwfacJaeu2VZ"
      }
    },
    {
      "cell_type": "code",
      "source": [
        "# Sınav için kullandığım kütüphaneler\n",
        "!pip install nltk\n",
        "!pip install langid\n",
        "!pip install requests\n",
        "!pip install beautifulsoup4"
      ],
      "metadata": {
        "colab": {
          "base_uri": "https://localhost:8080/"
        },
        "id": "YQVdlDEOwPmq",
        "outputId": "4f929cab-4470-43ae-cdd9-3efaf121845d"
      },
      "execution_count": 26,
      "outputs": [
        {
          "output_type": "stream",
          "name": "stdout",
          "text": [
            "Requirement already satisfied: nltk in /usr/local/lib/python3.10/dist-packages (3.8.1)\n",
            "Requirement already satisfied: click in /usr/local/lib/python3.10/dist-packages (from nltk) (8.1.7)\n",
            "Requirement already satisfied: joblib in /usr/local/lib/python3.10/dist-packages (from nltk) (1.3.2)\n",
            "Requirement already satisfied: regex>=2021.8.3 in /usr/local/lib/python3.10/dist-packages (from nltk) (2023.6.3)\n",
            "Requirement already satisfied: tqdm in /usr/local/lib/python3.10/dist-packages (from nltk) (4.66.1)\n",
            "Collecting langid\n",
            "  Downloading langid-1.1.6.tar.gz (1.9 MB)\n",
            "\u001b[2K     \u001b[90m━━━━━━━━━━━━━━━━━━━━━━━━━━━━━━━━━━━━━━━━\u001b[0m \u001b[32m1.9/1.9 MB\u001b[0m \u001b[31m12.4 MB/s\u001b[0m eta \u001b[36m0:00:00\u001b[0m\n",
            "\u001b[?25h  Preparing metadata (setup.py) ... \u001b[?25l\u001b[?25hdone\n",
            "Requirement already satisfied: numpy in /usr/local/lib/python3.10/dist-packages (from langid) (1.23.5)\n",
            "Building wheels for collected packages: langid\n",
            "  Building wheel for langid (setup.py) ... \u001b[?25l\u001b[?25hdone\n",
            "  Created wheel for langid: filename=langid-1.1.6-py3-none-any.whl size=1941172 sha256=a0ce36ab5c5b0ca2535e5725126d10bdea99bf8f4d040b6f30bd2a723ea54578\n",
            "  Stored in directory: /root/.cache/pip/wheels/23/c8/c6/eed80894918490a175677414d40bd7c851413bbe03d4856c3c\n",
            "Successfully built langid\n",
            "Installing collected packages: langid\n",
            "Successfully installed langid-1.1.6\n",
            "Requirement already satisfied: requests in /usr/local/lib/python3.10/dist-packages (2.31.0)\n",
            "Requirement already satisfied: charset-normalizer<4,>=2 in /usr/local/lib/python3.10/dist-packages (from requests) (3.3.2)\n",
            "Requirement already satisfied: idna<4,>=2.5 in /usr/local/lib/python3.10/dist-packages (from requests) (3.6)\n",
            "Requirement already satisfied: urllib3<3,>=1.21.1 in /usr/local/lib/python3.10/dist-packages (from requests) (2.0.7)\n",
            "Requirement already satisfied: certifi>=2017.4.17 in /usr/local/lib/python3.10/dist-packages (from requests) (2023.11.17)\n",
            "Requirement already satisfied: beautifulsoup4 in /usr/local/lib/python3.10/dist-packages (4.11.2)\n",
            "Requirement already satisfied: soupsieve>1.2 in /usr/local/lib/python3.10/dist-packages (from beautifulsoup4) (2.5)\n"
          ]
        }
      ]
    },
    {
      "cell_type": "markdown",
      "source": [
        "# Soru 1\n",
        "\n",
        "Kod bölümünde verilen paragrafın içindeki kelimelerin sıklıklarını (her bir kelimenin paragraf içinde kaç tane geçtiğini) ekrana listeyelecek kodu yazın. (25 Puan)\n",
        "\n",
        "Örnek çıktı aşağıdaki gibi olmalıdır:\n",
        "\n",
        "```\n",
        "elma - 3\n",
        "armut - 5\n",
        "karpuz - 2\n",
        "...\n",
        "```"
      ],
      "metadata": {
        "id": "N3CYVfJUyLQX"
      }
    },
    {
      "cell_type": "code",
      "execution_count": 13,
      "metadata": {
        "id": "m9Xix4Enun8Z",
        "colab": {
          "base_uri": "https://localhost:8080/"
        },
        "outputId": "d4534c4a-b711-4a76-f6e8-1407ff849c7a"
      },
      "outputs": [
        {
          "output_type": "stream",
          "name": "stdout",
          "text": [
            "the: 14\n",
            "power: 2\n",
            "of: 9\n",
            "open: 4\n",
            "culture: 1\n",
            "at: 1\n",
            "creative: 2\n",
            "commons: 2\n",
            "we: 1\n",
            "truly: 1\n",
            "believe: 1\n",
            "in: 6\n",
            "access: 2\n",
            "to: 6\n",
            "cultural: 4\n",
            "heritage: 3\n",
            "this: 1\n",
            "type: 1\n",
            "better: 2\n",
            "sharing: 2\n",
            "helps: 1\n",
            "build: 3\n",
            "and: 12\n",
            "sustain: 1\n",
            "vibrant: 1\n",
            "thriving: 1\n",
            "societies: 1\n",
            "galleries: 1\n",
            "libraries: 1\n",
            "archives: 1\n",
            "museums: 1\n",
            "glams: 5\n",
            "have: 1\n",
            "been: 1\n",
            "gate: 1\n",
            "openers: 1\n",
            "world: 1\n",
            "s: 1\n",
            "for: 4\n",
            "centuries: 1\n",
            "play: 1\n",
            "a: 2\n",
            "fundamental: 1\n",
            "role: 1\n",
            "communities: 2\n",
            "that: 2\n",
            "they: 4\n",
            "serve: 1\n",
            "provide: 1\n",
            "resources: 2\n",
            "services: 1\n",
            "enjoyment: 1\n",
            "education: 1\n",
            "research: 1\n",
            "advancement: 1\n",
            "knowledge: 1\n",
            "stimulate: 1\n",
            "creativity: 1\n",
            "innovation: 1\n",
            "service: 1\n",
            "global: 1\n",
            "sustainable: 1\n",
            "development: 1\n",
            "by: 2\n",
            "making: 1\n",
            "their: 3\n",
            "collections: 2\n",
            "as: 2\n",
            "openly: 2\n",
            "accessible: 2\n",
            "shareable: 1\n",
            "reusable: 1\n",
            "possible: 1\n",
            "public: 1\n",
            "both: 1\n",
            "on: 2\n",
            "site: 1\n",
            "online: 2\n",
            "empower: 1\n",
            "people: 1\n",
            "generation: 2\n",
            "after: 1\n",
            "offering: 1\n",
            "them: 1\n",
            "scientific: 1\n",
            "historical: 1\n",
            "socio: 1\n",
            "future: 1\n",
            "themselves: 1\n",
            "list: 1\n",
            "with: 1\n",
            "programs: 2\n",
            "gets: 1\n",
            "longer: 1\n",
            "every: 1\n",
            "day: 1\n",
            "however: 1\n",
            "those: 1\n",
            "don: 1\n",
            "t: 1\n",
            "just: 1\n",
            "happen: 1\n",
            "experience: 1\n",
            "pioneering: 1\n",
            "set: 1\n",
            "trend: 1\n",
            "early: 1\n",
            "days: 1\n",
            "movement: 1\n",
            "unfortunately: 1\n",
            "today: 1\n",
            "still: 1\n",
            "face: 1\n",
            "many: 1\n",
            "barriers: 2\n",
            "trying: 1\n",
            "make: 1\n",
            "strives: 1\n",
            "support: 1\n",
            "overcoming: 1\n",
            "these: 1\n",
            "achieve: 1\n"
          ]
        }
      ],
      "source": [
        "#Sıklık hesabı yapılacak Paragraf\n",
        "paragraf = \"The power of open culture. At Creative Commons, we truly believe in the power of open access to cultural heritage. This type of better sharing helps build and sustain vibrant and thriving societies. Galleries, libraries, archives, and museums (GLAMs) have been the gate openers to the world’s cultural heritage for centuries, and play a fundamental role for the communities that they serve. They provide resources and services for enjoyment, education, research, and the advancement of knowledge, and stimulate creativity and innovation in the service of global sustainable development. By making their collections as openly accessible, shareable, and reusable as possible by the public — both on-site and online — they empower people, generation after generation, in offering them the scientific, historical, and socio-cultural resources to build a future for themselves and their communities. The list of GLAMs with open access programs gets longer every day. However, those programs don’t just happen. They build on the experience of pioneering GLAMs that set the trend in the early days of the open movement. Unfortunately, today still, GLAMs face many barriers in trying to make their collections openly accessible online. Creative Commons strives to support GLAMs in overcoming these barriers to achieve better sharing of cultural heritage.\"\n",
        "\n",
        "#Sizin kodlarınız\n",
        "from collections import Counter\n",
        "import re\n",
        "\n",
        "# Paragrafı küçük harflere çevirerek kelimelerin büyük/küçük harfe duyarlı olmasını engelliyoruz.\n",
        "paragraf = paragraf.lower()\n",
        "\n",
        "# Kelimeleri ayırmak için regex kullanarak boşluklar, noktalama işaretleri ve diğer özel karakterleri temizliyoruz.\n",
        "kelimeler = re.findall(r'\\b\\w+\\b', paragraf)\n",
        "\n",
        "# Kelimelerin sıklıklarını hesaplayarak bir Counter nesnesi oluşturuyoruz.\n",
        "kelime_sikliklari = Counter(kelimeler)\n",
        "\n",
        "# Her bir kelimenin sıklığını ekrana yazdırıyoruz.\n",
        "for kelime, siklik in kelime_sikliklari.items():\n",
        "    print(f\"{kelime}: {siklik}\")\n",
        "\n"
      ]
    },
    {
      "cell_type": "markdown",
      "source": [
        "# Soru 2\n",
        "\n",
        "Kod bölümünde verilen URL'de yer alan web sayfasında \"h2\" etiketi ile işaretlenmiş metinleri ekrana listeleyecek kodu yazın. (25 Puan)\n",
        "\n",
        "Örnek çıktı aşağıdaki gibi olmalıdır:\n",
        "\n",
        "\n",
        "```\n",
        "Who We Are\n",
        "Our mission\n",
        "Our vision\n",
        "...\n",
        "```\n",
        "\n"
      ],
      "metadata": {
        "id": "uIuXDXBd3whN"
      }
    },
    {
      "cell_type": "code",
      "source": [
        "#h2 etiketlerinin okunacağı URL\n",
        "url = \"https://creativecommons.org/mission/\"\n",
        "\n",
        "#Sizin kodlarınız\n",
        "\n",
        "import requests\n",
        "from bs4 import BeautifulSoup\n",
        "\n",
        "url = \"https://creativecommons.org/mission/\"\n",
        "\n",
        "# URL'den sayfayı çekme\n",
        "response = requests.get(url)\n",
        "\n",
        "# Sayfayı BeautifulSoup kullanarak analiz etme\n",
        "soup = BeautifulSoup(response.text, 'html.parser')\n",
        "\n",
        "# h2 etiketleri içindeki metinleri bulma\n",
        "h2_metinleri = [h2.text.strip() for h2 in soup.find_all('h2')]\n",
        "\n",
        "# Metinleri ekrana yazdırma\n",
        "for metin in h2_metinleri:\n",
        "    print(metin)\n"
      ],
      "metadata": {
        "id": "vonGuadn4kwE",
        "colab": {
          "base_uri": "https://localhost:8080/"
        },
        "outputId": "49aeccb4-3678-4f90-e29d-a0c3961e6d0e"
      },
      "execution_count": 12,
      "outputs": [
        {
          "output_type": "stream",
          "name": "stdout",
          "text": [
            "Who We Are\n",
            "Our mission\n",
            "Our vision\n",
            "Our strategy\n",
            "Our values\n",
            "Contact Us\n",
            "Subscribe to our Newsletter\n",
            "Support Our Work\n"
          ]
        }
      ]
    },
    {
      "cell_type": "markdown",
      "source": [
        "# Soru 3\n",
        "\n",
        "Kullanıcı tarafından girilen bir sayısının asal sayı olup olmadığını kontrol edecek bir \"asal sayı tahmin oyunu\" kodlayınız. Bu oyunda kullanıcı asal sayı girdiği sürecek ikinci bir tahmin hakkı verilmeli, asal sayı girmediği zaman ise oyun sona erdirilmelidir. (25 Puan)"
      ],
      "metadata": {
        "id": "zEAR579V5al1"
      }
    },
    {
      "cell_type": "code",
      "source": [
        "\n",
        "# Sizin kodlarınız\n",
        "def is_prime(num):\n",
        "    \"\"\"Verilen sayının asal olup olmadığını kontrol eden fonksiyon.\"\"\"\n",
        "    if num < 2:\n",
        "        return False\n",
        "    for i in range(2, int(num**0.5) + 1):\n",
        "        if num % i == 0:\n",
        "            return False\n",
        "    return True\n",
        "\n",
        "def prime_guess_game():\n",
        "    \"\"\"Asal sayı tahmin oyununu başlatan fonksiyon.\"\"\"\n",
        "    print(\"Asal Sayı Tahmin Oyununa Hoş Geldiniz!\")\n",
        "    print(\"Oyunu sonlandırmak için 'q' tuşuna basabilirsiniz.\")\n",
        "\n",
        "    while True:\n",
        "        user_input = input(\"Bir sayı girin: \")\n",
        "\n",
        "        if user_input.lower() == 'q':\n",
        "            print(\"Oyun sonlandırıldı.\")\n",
        "            break\n",
        "\n",
        "        try:\n",
        "            number = int(user_input)\n",
        "            if is_prime(number):\n",
        "                print(f\"{number} bir asal sayıdır! Tebrikler!\")\n",
        "            else:\n",
        "                print(f\"{number} bir asal sayı değildir. Oyun sonlandırıldı.\")\n",
        "                break\n",
        "        except ValueError:\n",
        "            print(\"Geçerli bir sayı giriniz veya 'q' tuşuna basarak oyunu sonlandırınız.\")\n",
        "\n",
        "# Oyunu başlat\n",
        "prime_guess_game()\n",
        "\n"
      ],
      "metadata": {
        "id": "ntHxasd87B1f",
        "colab": {
          "base_uri": "https://localhost:8080/"
        },
        "outputId": "f662309f-1af2-4b5a-d4c8-a57146af0725"
      },
      "execution_count": 50,
      "outputs": [
        {
          "output_type": "stream",
          "name": "stdout",
          "text": [
            "Asal Sayı Tahmin Oyununa Hoş Geldiniz!\n",
            "Oyunu sonlandırmak için 'q' tuşuna basabilirsiniz.\n",
            "Bir sayı girin: 2\n",
            "2 bir asal sayıdır! Tebrikler!\n",
            "Bir sayı girin: 2\n",
            "2 bir asal sayıdır! Tebrikler!\n",
            "Bir sayı girin: 14\n",
            "14 bir asal sayı değildir. Oyun sonlandırıldı.\n"
          ]
        }
      ]
    },
    {
      "cell_type": "markdown",
      "source": [
        "# Soru 4\n",
        "\n",
        "Kullanıcı tarafından girilen bir cümlenin \"İngilizce\" olup olmadığını anlayacak kodu yazınız. Girilen cümlenin analizinden sonra sonuç ekrana yazdırılmalı.\n",
        "\n",
        "Not: Bu soru için kullandığınız ek bir dosya varsa o dosyayı da Github deponuza eklemeyi unutmayınız.\n",
        "\n",
        "Örnek çıktı:\n",
        "\n",
        "```\n",
        "\"I want to learn Python programming in my school life\" cümlesi ingilizcedir.\n",
        "```\n"
      ],
      "metadata": {
        "id": "_3_lGQj97G4Z"
      }
    },
    {
      "cell_type": "code",
      "source": [
        "#Cümle girişi\n",
        "\n",
        "# Sizin kodlarınız\n",
        "\n",
        "from langid.langid import LanguageIdentifier, model\n",
        "\n",
        "def is_english(sentence):\n",
        "    identifier = LanguageIdentifier.from_modelstring(model, norm_probs=True)\n",
        "    language, confidence = identifier.classify(sentence)\n",
        "    return language == 'en'  # 'en' dil kodu İngilizce'yi temsil eder\n",
        "\n",
        "# Kullanıcıdan cümle girişi al\n",
        "user_input = input(\"Bir cümle girin: \")\n",
        "\n",
        "# İngilizce kontrolü\n",
        "if is_english(user_input):\n",
        "    print(\"Girilen cümle İngilizce.\")\n",
        "else:\n",
        "    print(\"Girilen cümle İngilizce değil.\")\n",
        "\n"
      ],
      "metadata": {
        "id": "MJb8eoth-Lam",
        "colab": {
          "base_uri": "https://localhost:8080/"
        },
        "outputId": "611d1db5-9f29-49ad-a90a-081893e4ae60"
      },
      "execution_count": 44,
      "outputs": [
        {
          "output_type": "stream",
          "name": "stdout",
          "text": [
            "Bir cümle girin: i love cats\n",
            "Girilen cümle İngilizce.\n"
          ]
        }
      ]
    }
  ]
}